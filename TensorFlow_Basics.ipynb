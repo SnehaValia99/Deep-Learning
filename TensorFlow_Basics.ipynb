{
  "nbformat": 4,
  "nbformat_minor": 0,
  "metadata": {
    "colab": {
      "name": "TensorFlow Basics.ipynb",
      "provenance": [],
      "collapsed_sections": [],
      "authorship_tag": "ABX9TyPr6Nyym6o2rXkRfr8S0hk8",
      "include_colab_link": true
    },
    "kernelspec": {
      "name": "python3",
      "display_name": "Python 3"
    }
  },
  "cells": [
    {
      "cell_type": "markdown",
      "metadata": {
        "id": "view-in-github",
        "colab_type": "text"
      },
      "source": [
        "<a href=\"https://colab.research.google.com/github/SnehaValia99/Deep-Learning/blob/master/TensorFlow_Basics.ipynb\" target=\"_parent\"><img src=\"https://colab.research.google.com/assets/colab-badge.svg\" alt=\"Open In Colab\"/></a>"
      ]
    },
    {
      "cell_type": "markdown",
      "metadata": {
        "id": "1BgfxHbiILv5",
        "colab_type": "text"
      },
      "source": [
        "#Build Computional Graph & run it"
      ]
    },
    {
      "cell_type": "code",
      "metadata": {
        "id": "-Z7n6WxdIUJq",
        "colab_type": "code",
        "colab": {
          "base_uri": "https://localhost:8080/",
          "height": 34
        },
        "outputId": "dbb7d8a7-7156-4637-a12d-d70105c06bf3"
      },
      "source": [
        "import tensorflow as tf\n",
        "\n",
        "a = tf.constant(5)\n",
        "b = tf.constant(2)\n",
        "c = tf.constant(3)\n",
        "\n",
        "d= tf.multiply(a,b)\n",
        "e = tf.add(c,b)\n",
        "f = tf.subtract(d,e)\n",
        "\n",
        "sess = tf.Session()\n",
        "\n",
        "op = sess.run(f)\n",
        "\n",
        "print(op)"
      ],
      "execution_count": 2,
      "outputs": [
        {
          "output_type": "stream",
          "text": [
            "5\n"
          ],
          "name": "stdout"
        }
      ]
    },
    {
      "cell_type": "markdown",
      "metadata": {
        "id": "N6Zy_kZsNEOd",
        "colab_type": "text"
      },
      "source": [
        "# PlaceHolders"
      ]
    },
    {
      "cell_type": "code",
      "metadata": {
        "id": "0jmQRb8qJ7Sa",
        "colab_type": "code",
        "colab": {
          "base_uri": "https://localhost:8080/",
          "height": 34
        },
        "outputId": "166c4c0d-4829-40ed-918f-136adc6b9839"
      },
      "source": [
        "a1 = tf.placeholder(tf.float32)\n",
        "b1 = tf.placeholder(tf.float32)\n",
        "\n",
        "adder_node = a1+b1\n",
        "\n",
        "sess = tf.Session()\n",
        "\n",
        "print(sess.run(adder_node, {a1 : [1,3], b1 : [2,4]}))"
      ],
      "execution_count": 5,
      "outputs": [
        {
          "output_type": "stream",
          "text": [
            "[3. 7.]\n"
          ],
          "name": "stdout"
        }
      ]
    },
    {
      "cell_type": "markdown",
      "metadata": {
        "id": "7aUL0m_mNHnc",
        "colab_type": "text"
      },
      "source": [
        "#Variables"
      ]
    },
    {
      "cell_type": "code",
      "metadata": {
        "id": "Tw690Hd1NJ3v",
        "colab_type": "code",
        "colab": {
          "base_uri": "https://localhost:8080/",
          "height": 34
        },
        "outputId": "3eb8c9a0-4f26-4fcc-d354-577adaf34256"
      },
      "source": [
        "w = tf.Variable([.3],tf.float32)\n",
        "b = tf.Variable([-.3],tf.float32)\n",
        "x = tf.placeholder(tf.float32)\n",
        "\n",
        "linear_model = w * x + b\n",
        "\n",
        "init = tf.global_variables_initializer()  #explicitly intializing\n",
        "\n",
        "sess = tf.Session()\n",
        "#sess.run(init)\n",
        "\n",
        "#print(sess.run(linear_model, {x: [1,2,3,4]}))\n",
        "\n",
        "y = tf.placeholder(tf.float32)\n",
        "\n",
        "squared_deltas = tf.square(linear_model - y)\n",
        "loss = tf.reduce_sum(squared_deltas)\n",
        "\n",
        "#print(sess.run(loss ,  {x: [1,2,3,4], y: [0,-1,-2,-3]}))\n",
        "\n",
        "optimizer = tf.train.GradientDescentOptimizer(0.01)\n",
        "train = optimizer.minimize(loss)\n",
        "\n",
        "sess.run(init)\n",
        "\n",
        "for i in range (1000):\n",
        "  sess.run(train ,  {x: [1,2,3,4], y: [0,-1,-2,-3]})\n",
        "\n",
        "print(sess.run([w,b]))\n"
      ],
      "execution_count": 11,
      "outputs": [
        {
          "output_type": "stream",
          "text": [
            "[array([-0.9999969], dtype=float32), array([0.9999908], dtype=float32)]\n"
          ],
          "name": "stdout"
        }
      ]
    },
    {
      "cell_type": "markdown",
      "metadata": {
        "id": "tJoWDCt_Sqxd",
        "colab_type": "text"
      },
      "source": [
        "# AND  &  OR "
      ]
    },
    {
      "cell_type": "code",
      "metadata": {
        "id": "VvceDkQtSvx_",
        "colab_type": "code",
        "colab": {
          "base_uri": "https://localhost:8080/",
          "height": 171
        },
        "outputId": "4acb6035-dc38-40b6-cf0c-916a2b66667b"
      },
      "source": [
        "T , F = 1. , -1.\n",
        "bias = 1.\n",
        "\n",
        "train_in = [\n",
        "            [T,T,bias],\n",
        "            [T,F,bias],\n",
        "            [F,T,bias],\n",
        "            [F,F,bias],]\n",
        "\n",
        "train_out = [\n",
        "             [T],\n",
        "             [F],\n",
        "             [F],\n",
        "             [F],\n",
        "]\n",
        "\n",
        "z = tf.Variable(tf.random_normal([3,1]))\n",
        "\n",
        "def step(x):\n",
        "  is_greater = tf.greater(x,0)\n",
        "  as_float = tf.to_float(is_greater)\n",
        "  doubled = tf.multiply(as_float,2)\n",
        "  return tf.subtract(doubled,1)\n",
        "\n",
        "output = step(tf.matmul(train_in,z))\n",
        "error = tf.subtract(train_out,output)\n",
        "mse = tf.reduce_mean(tf.square(error))\n",
        "\n",
        "delta = tf.matmul(train_in, error, transpose_a=True)\n",
        "train = tf.assign(z,tf.add(z,delta))\n",
        "\n",
        "sess = tf.Session()\n",
        "sess.run(tf.initialize_all_variables())\n",
        "\n",
        "err, target = 1,0\n",
        "\n",
        "epoch , max_epoch = 0,10\n",
        "\n",
        "while err>target and epoch < max_epoch:\n",
        "  epoch+=1\n",
        "  err,_ =sess.run([mse,train])\n",
        "  print('epoch:',epoch,'mse:',err)"
      ],
      "execution_count": 15,
      "outputs": [
        {
          "output_type": "stream",
          "text": [
            "WARNING:tensorflow:From /usr/local/lib/python3.6/dist-packages/tensorflow_core/python/util/tf_should_use.py:198: initialize_all_variables (from tensorflow.python.ops.variables) is deprecated and will be removed after 2017-03-02.\n",
            "Instructions for updating:\n",
            "Use `tf.global_variables_initializer` instead.\n",
            "epoch: 1 mse: 2.0\n",
            "epoch: 2 mse: 1.0\n",
            "epoch: 3 mse: 1.0\n",
            "epoch: 4 mse: 1.0\n",
            "epoch: 5 mse: 0.0\n"
          ],
          "name": "stdout"
        }
      ]
    }
  ]
}